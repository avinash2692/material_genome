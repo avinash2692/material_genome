{
 "cells": [
  {
   "cell_type": "markdown",
   "metadata": {},
   "source": [
    "#Material Genome "
   ]
  },
  {
   "cell_type": "markdown",
   "metadata": {},
   "source": [
    "The code below reads in the original \"melting points.txt\" document and extract all binary metal systems. This was required as a list of material systems was required to make the api calls to the server."
   ]
  },
  {
   "cell_type": "code",
   "execution_count": 1,
   "metadata": {
    "collapsed": true
   },
   "outputs": [],
   "source": [
    "import os\n",
    "import collections\n",
    "import json\n",
    "import requests\n",
    "\n",
    "from itertools import izip\n",
    "import warnings\n",
    "warnings.filterwarnings('ignore')\n",
    "\n",
    "# Read in the file and exxtract every entry in the dataset:\n",
    "INPUT_FILE_NAME = \"melting_points copy.txt\"\n",
    "\n",
    "input_data = open(INPUT_FILE_NAME)\n",
    "element_systems = []\n",
    "for line in input_data:\n",
    "    line = line.strip().split(' ',1)\n",
    "    if (len(line) > 1) and (\"-\" in line [0]):\n",
    "        element_systems.append(line[0])\n",
    "    else: \n",
    "        continue\n",
    "input_data.close()\n",
    "\n",
    "element_systems = set(element_systems)"
   ]
  },
  {
   "cell_type": "markdown",
   "metadata": {},
   "source": [
    "The Below cell extracts all sub-directory names. this is required as a list of properties required is to be passed on to the API for each material. (Requires cleaning, this gives some unwanted properties also)"
   ]
  },
  {
   "cell_type": "code",
   "execution_count": 2,
   "metadata": {
    "collapsed": true
   },
   "outputs": [],
   "source": [
    "# Read names of all files in the sub-directory /mapidocs/materials (forked form github)\n",
    "\n",
    "features = next(os.walk('./mapidoc/materials'))[1]"
   ]
  },
  {
   "cell_type": "markdown",
   "metadata": {
    "collapsed": true
   },
   "source": [
    "Funtion to flatten the resulting dict of dicts in the API call(stackoverflow : http://stackoverflow.com/questions/6027558/flatten-nested-python-dictionaries-compressing-keys). \n",
    "Eg output: \n",
    "\n",
    " `flatten({'a': 1, 'c': {'a': 2, 'b': {'x': 5, 'y' : 10}}, 'd': [1, 2, 3]})`\n",
    "\n",
    "{'a': 1, 'c_a': 2, 'c_b_x': 5, 'd': [1, 2, 3], 'c_b_y': 10}"
   ]
  },
  {
   "cell_type": "code",
   "execution_count": 3,
   "metadata": {
    "collapsed": true
   },
   "outputs": [],
   "source": [
    "def flatten(d, parent_key='', sep='_'):\n",
    "    items = []\n",
    "    for k, v in d.items():\n",
    "        new_key = parent_key + sep + k if parent_key else k\n",
    "        if isinstance(v, collections.MutableMapping):\n",
    "            items.extend(flatten(v, new_key, sep=sep).items())\n",
    "        else:\n",
    "            items.append((new_key, v))\n",
    "    return dict(items)"
   ]
  },
  {
   "cell_type": "markdown",
   "metadata": {
    "collapsed": true
   },
   "source": [
    "This Code should send repeated calls to the server and extract all information (Working). TODO: Convert output list of dictionaries into PANDAS dataframe, Clean data, Extra: Add loading bar"
   ]
  },
  {
   "cell_type": "code",
   "execution_count": null,
   "metadata": {
    "collapsed": false
   },
   "outputs": [],
   "source": [
    "mat_data = []\n",
    "for e in element_systems:\n",
    "    data = {\n",
    "    'criteria': {\"chemsys\" : e},\n",
    "    'properties': features\n",
    "    }\n",
    "    r = requests.post('https://materialsproject.org/rest/v2/query',\n",
    "                 headers={'X-API-KEY': '87kcBbIgsJmN3nTh'},\n",
    "                 data={k: json.dumps(v) for k,v in data.iteritems()})\n",
    "    response_content = r.json() # a dict\n",
    "    for item in response_content['response']:\n",
    "        t = flatten(item)\n",
    "        mat_data.append(t) "
   ]
  },
  {
   "cell_type": "markdown",
   "metadata": {
    "collapsed": true
   },
   "source": [
    "## Examples for One system \"Al-LU\""
   ]
  },
  {
   "cell_type": "markdown",
   "metadata": {
    "collapsed": true
   },
   "source": [
    "Example of one system and corresponding outpus below"
   ]
  },
  {
   "cell_type": "code",
   "execution_count": 27,
   "metadata": {
    "collapsed": false
   },
   "outputs": [],
   "source": [
    "data = {\n",
    "    'criteria': {\"chemsys\" : \"Al-Lu\", \"nelements\" : 2},\n",
    "    'properties': features\n",
    "}\n",
    "r = requests.post('https://materialsproject.org/rest/v2/query',\n",
    "                 headers={'X-API-KEY': 'S68xz1F7NhXAZWbI'},\n",
    "                 data={k: json.dumps(v) for k,v in data.iteritems()})\n",
    "response_content = r.json() # a dict\n"
   ]
  },
  {
   "cell_type": "code",
   "execution_count": 28,
   "metadata": {
    "collapsed": false
   },
   "outputs": [
    {
     "data": {
      "text/plain": [
       "4"
      ]
     },
     "execution_count": 28,
     "metadata": {},
     "output_type": "execute_result"
    }
   ],
   "source": [
    "len (response_content['response']) # need to figure out a way to extract information from this "
   ]
  },
  {
   "cell_type": "code",
   "execution_count": 2,
   "metadata": {
    "collapsed": false
   },
   "outputs": [],
   "source": [
    "response_content['response'];"
   ]
  },
  {
   "cell_type": "code",
   "execution_count": null,
   "metadata": {
    "collapsed": false
   },
   "outputs": [],
   "source": []
  },
  {
   "cell_type": "code",
   "execution_count": 40,
   "metadata": {
    "collapsed": false
   },
   "outputs": [],
   "source": [
    "next(os.walk('./mapidoc/materials'))[1]"
   ]
  },
  {
   "cell_type": "code",
   "execution_count": 27,
   "metadata": {
    "collapsed": false
   },
   "outputs": [
    {
     "data": {
      "text/plain": [
       "25297"
      ]
     },
     "execution_count": 27,
     "metadata": {},
     "output_type": "execute_result"
    }
   ],
   "source": [
    "len(element_systems)"
   ]
  },
  {
   "cell_type": "code",
   "execution_count": null,
   "metadata": {
    "collapsed": false,
    "scrolled": true
   },
   "outputs": [],
   "source": []
  },
  {
   "cell_type": "markdown",
   "metadata": {},
   "source": [
    "This code snippet takes all task_ids from the material database. Could be useful to pull everything."
   ]
  },
  {
   "cell_type": "code",
   "execution_count": 9,
   "metadata": {
    "collapsed": false
   },
   "outputs": [
    {
     "name": "stdout",
     "output_type": "stream",
     "text": [
      "env: MAPI_KEY=\"S68xz1F7NhXAZWbI\"\n"
     ]
    }
   ],
   "source": [
    "from pymatgen import MPRester\n",
    "m = MPRester()\n",
    "% env MAPI_KEY= \"S68xz1F7NhXAZWbI\"\n",
    "\n",
    "materials_id = m.query(criteria={}, properties=[\"task_id\"])"
   ]
  },
  {
   "cell_type": "code",
   "execution_count": 16,
   "metadata": {
    "collapsed": false
   },
   "outputs": [
    {
     "data": {
      "text/plain": [
       "[1]"
      ]
     },
     "execution_count": 16,
     "metadata": {},
     "output_type": "execute_result"
    }
   ],
   "source": [
    "for a in materials_id:\n",
    "    "
   ]
  },
  {
   "cell_type": "code",
   "execution_count": null,
   "metadata": {
    "collapsed": true
   },
   "outputs": [],
   "source": [
    "data = pd.DataFrame()\n",
    "for item in response_content['response']:\n",
    "    temp = flatten (item)\n",
    "    temp = pd.DataFrame.from_dict(temp)\n",
    "    data = pd.concat([data,temp])"
   ]
  }
 ],
 "metadata": {
  "kernelspec": {
   "display_name": "Python 2",
   "language": "python",
   "name": "python2"
  },
  "language_info": {
   "codemirror_mode": {
    "name": "ipython",
    "version": 2
   },
   "file_extension": ".py",
   "mimetype": "text/x-python",
   "name": "python",
   "nbconvert_exporter": "python",
   "pygments_lexer": "ipython2",
   "version": "2.7.9"
  }
 },
 "nbformat": 4,
 "nbformat_minor": 0
}
